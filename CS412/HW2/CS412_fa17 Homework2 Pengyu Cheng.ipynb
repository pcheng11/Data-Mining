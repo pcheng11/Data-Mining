{
 "cells": [
  {
   "cell_type": "markdown",
   "metadata": {},
   "source": [
    "# Question1"
   ]
  },
  {
   "cell_type": "markdown",
   "metadata": {},
   "source": [
    "**a**.<br>We know that a data cube of n dimensions contains $2^n$ cuboids.<br>\n",
    "So, given 10 dimensions, we can easily derive that there are $2^{10} = 1024$ cuboids in the full data cube."
   ]
  },
  {
   "cell_type": "markdown",
   "metadata": {},
   "source": [
    "**b.**<br>To calculate distinct aggregated cells. We need to:\n",
    "1. get all the aggregated cells(non-base) in this data cube.\n",
    "2. Delete all the duplicate ones."
   ]
  },
  {
   "cell_type": "markdown",
   "metadata": {},
   "source": [
    "1. There are 3 base cells in the base cuboid so each base cell can generate $\\sum_{n=1}^{10} {{10} \\choose {n}} = 2^{10} -1$ aggregated cells. Then there are in all $3 \\times (2^{10} -1) = 3069$ aggregated cells.\n",
    "2. Now we delete the duplicate ones. Note that in each base cells, there are 7 dimensions which are the same: $c_4,...,c_9, c_{10}$.<br>\n",
    "So when we roll up to $(*,*,*,c_4,...,c_9,c_{10}):1$, all the cells that are left to be aggregated will be the same. Thus we can simply combine all those cells and the count for each of those cells is 3: <br>\n",
    "$(*,*,*,*,c_5,...c_{10}):3$ <br> $(*,*,*,*,*,c_6,...,c_{10}):3$<br> ......<br>\n",
    " $(*,*,*,*,*,*,*,*,*,*):3$<br>\n",
    "This leave us with $2\\times\\sum_{n=1}^{7} {{7} \\choose {1}} + 2 = 2\\times (2^{7} -1) + 2 = 256$ duplicate aggregated cells. (+2 means we have 2 duplicate $(*,*,*,c_4,...c_{10})$ cells)\n",
    "<br><br>Thus we get $3069 - 256  = 2813$ distinct aggregated cells"
   ]
  },
  {
   "cell_type": "markdown",
   "metadata": {},
   "source": [
    "**c.**<br>\n",
    "The condition for iceberg cube here is count > 2.\n",
    "These cells are just the cells that we combined in part b. Namely:<br>\n",
    " $(*,*,*,c_4,...c_{10}):3$ <br>\n",
    " $(*,*,*,*,c_5,...c_{10}):3$ <br>  $(*,*,*,*,*,c_6,...,c_{10}):3$<br>\n",
    " .......<br>\n",
    " $(*,*,*,*,*,*,*,*,*,*):3$<br>\n",
    " Thus we have $\\sum_{n=1}^{7} {{7} \\choose {1}} + 1 = (2^{7} -1) + 1 = 128$ distinct aggregated cells."
   ]
  },
  {
   "cell_type": "markdown",
   "metadata": {},
   "source": [
    "**d.**<br>\n",
    "By definition:<br>\n",
    "* A cell, c, is a closed cell if there exists no cell: d, such that d is a specialization (descendant) of cell c and d has the same measure value as c. <br>\n"
   ]
  },
  {
   "cell_type": "markdown",
   "metadata": {},
   "source": [
    "Using this definition, we see there are only 4 closed cell in this data cube:<br>\n",
    "* $(a_1,a_2,a_3,c_4,c_5,c_6,c_7,c_8,c_9,c_{10}):1$\n",
    "* $(b_1,b_2,b_3,c_4,c_5,c_6,c_7,c_8,c_9,c_{10}):1$\n",
    "* $(c_1,c_2,c_3,c_4,c_5,c_6,c_7,c_8,c_9,c_{10}):1$\n",
    "* $(*,*,*,c_4,...c_{10}):3$ <br>\n",
    "Thus the closed cell with count = 3 has **7** non-star dimensions."
   ]
  },
  {
   "cell_type": "markdown",
   "metadata": {},
   "source": [
    "# Question 2"
   ]
  },
  {
   "cell_type": "markdown",
   "metadata": {},
   "source": [
    "**a.**\n",
    " As this a cube with concept hierarchy, we use the following formula<br>\n",
    "*  $T = \\prod_{k = 1}^n(L_k +1)$<br>\n",
    "Since Location dimension has two levels: we get<br>\n",
    "   $T = (2+1)\\times(1+1)\\times(1+1)\\times(1+1) = 24$<br>\n",
    "Hence, there are **24** cuboids in this cube.\n",
    "\n"
   ]
  },
  {
   "cell_type": "markdown",
   "metadata": {},
   "source": [
    "**b.**\n",
    "I use pandas library to handle this problem which will be rather simple.\n",
    "* I first find all the cells in the cuboid('City', 'Category', 'Price', 'Rating') and use the drop_duplicates() function to get the distinct cells of the cuboid."
   ]
  },
  {
   "cell_type": "code",
   "execution_count": 4,
   "metadata": {},
   "outputs": [
    {
     "name": "stdout",
     "output_type": "stream",
     "text": [
      "48\n"
     ]
    }
   ],
   "source": [
    "import pandas as pd \n",
    "header = ['Business id', 'State', 'City', 'Category', 'Price', 'Rating']\n",
    "cube = pd.read_csv('Q2data.csv', names = header)\n",
    "\n",
    "cuboid_1 = cube[['City', 'Category', 'Price', 'Rating']].drop_duplicates()\n",
    "print(len(cuboid_1))"
   ]
  },
  {
   "cell_type": "markdown",
   "metadata": {},
   "source": [
    "Thus, there are **48** cells in the cuboid (Location(city), Category, Rating, Price)."
   ]
  },
  {
   "cell_type": "markdown",
   "metadata": {},
   "source": [
    "**c.**\n",
    "By the same token:"
   ]
  },
  {
   "cell_type": "code",
   "execution_count": 5,
   "metadata": {},
   "outputs": [
    {
     "name": "stdout",
     "output_type": "stream",
     "text": [
      "34\n"
     ]
    }
   ],
   "source": [
    "cuboid_2 = cube[['State', 'Category', 'Price', 'Rating']].drop_duplicates()\n",
    "print(len(cuboid_2))"
   ]
  },
  {
   "cell_type": "markdown",
   "metadata": {},
   "source": [
    "Thus, there are **34** cells in the cuboid (Location(State), Category, Rating, Price).\n",
    "\n"
   ]
  },
  {
   "cell_type": "markdown",
   "metadata": {},
   "source": [
    "**d.**Also by the same token:"
   ]
  },
  {
   "cell_type": "code",
   "execution_count": 6,
   "metadata": {},
   "outputs": [
    {
     "name": "stdout",
     "output_type": "stream",
     "text": [
      "23\n"
     ]
    }
   ],
   "source": [
    "cuboid_3 = cube[['Category', 'Price', 'Rating']].drop_duplicates()\n",
    "print(len(cuboid_3))"
   ]
  },
  {
   "cell_type": "markdown",
   "metadata": {},
   "source": [
    "Thus, there are **23** cells in the cuboid (Category, Price, Rating)."
   ]
  },
  {
   "cell_type": "markdown",
   "metadata": {},
   "source": [
    "**e.** Running the code get us the count:"
   ]
  },
  {
   "cell_type": "code",
   "execution_count": 7,
   "metadata": {},
   "outputs": [
    {
     "name": "stdout",
     "output_type": "stream",
     "text": [
      "    Business id     State     City Category     Price  Rating\n",
      "6             6  Illinois   Aurora  clothes  moderate       3\n",
      "45           45  Illinois  Chicago     food  moderate       3\n"
     ]
    }
   ],
   "source": [
    "print(cube.loc[(cube['State'] == 'Illinois') & (cube['Rating'] == 3) & (cube['Price'] == 'moderate')])\n"
   ]
  },
  {
   "cell_type": "markdown",
   "metadata": {},
   "source": [
    "Thus, the count for the cell (Location(state) = ’Illinois’ , * , rating = 3 , Price = ’Moderate’) is **2***."
   ]
  },
  {
   "cell_type": "markdown",
   "metadata": {},
   "source": [
    "**f.** Using the same method:"
   ]
  },
  {
   "cell_type": "code",
   "execution_count": 8,
   "metadata": {},
   "outputs": [
    {
     "name": "stdout",
     "output_type": "stream",
     "text": [
      "    Business id     State     City Category      Price  Rating\n",
      "31           31  Illinois  Chicago     food  expensive       3\n",
      "45           45  Illinois  Chicago     food   moderate       3\n"
     ]
    }
   ],
   "source": [
    "print(cube.loc[(cube['City'] == 'Chicago') & (cube['Category'] == 'food')])"
   ]
  },
  {
   "cell_type": "markdown",
   "metadata": {},
   "source": [
    "Thus, the count for the cell (Location(city) = ’Chicago’ , Category=’food’ , * , *) is **2**."
   ]
  },
  {
   "cell_type": "markdown",
   "metadata": {},
   "source": [
    "# Question 3"
   ]
  },
  {
   "cell_type": "markdown",
   "metadata": {},
   "source": [
    "**a.** <br>\n",
    "When the minimum support is 20, we want to find all patterns that has support >= 20.\n"
   ]
  },
  {
   "cell_type": "code",
   "execution_count": 9,
   "metadata": {},
   "outputs": [
    {
     "name": "stdout",
     "output_type": "stream",
     "text": [
      "[{('A',): 64,\n",
      "  ('B',): 54,\n",
      "  ('C',): 83,\n",
      "  ('D',): 28,\n",
      "  ('E',): 66,\n",
      "  ('F',): 29,\n",
      "  ('G',): 34},\n",
      " {('A', 'B'): 37,\n",
      "  ('A', 'C'): 52,\n",
      "  ('A', 'E'): 44,\n",
      "  ('A', 'F'): 20,\n",
      "  ('A', 'G'): 22,\n",
      "  ('B', 'C'): 47,\n",
      "  ('B', 'E'): 34,\n",
      "  ('B', 'G'): 21,\n",
      "  ('C', 'D'): 23,\n",
      "  ('C', 'E'): 56,\n",
      "  ('C', 'F'): 28,\n",
      "  ('C', 'G'): 32,\n",
      "  ('E', 'F'): 25,\n",
      "  ('E', 'G'): 22},\n",
      " {('A', 'B', 'C'): 31,\n",
      "  ('A', 'B', 'E'): 24,\n",
      "  ('A', 'C', 'E'): 38,\n",
      "  ('A', 'C', 'G'): 20,\n",
      "  ('B', 'C', 'E'): 32,\n",
      "  ('B', 'C', 'G'): 20,\n",
      "  ('C', 'E', 'F'): 25,\n",
      "  ('C', 'E', 'G'): 21},\n",
      " {('A', 'B', 'C', 'E'): 23}]\n",
      "Number of frequent 1-itemset is 7\n",
      "Number of frequent 2-itemset is 14\n",
      "Number of frequent 3-itemset is 8\n",
      "Number of frequent 4-itemset is 1\n",
      "Number of frequent patterns is 30\n"
     ]
    }
   ],
   "source": [
    "import csv\n",
    "import copy\n",
    "import pprint\n",
    "from collections import defaultdict\n",
    "from itertools import combinations\n",
    "reader = csv.reader(open('Q3data'), delimiter = ' ')\n",
    "transaction_list = list(reader)\n",
    "\n",
    "\n",
    "Li = []\n",
    "countList = []\n",
    "dict_list = []\n",
    "\n",
    "for i in range(1, 5):\n",
    "\tnew_dict = {}\n",
    "\tcount = 0\n",
    "\tfreq_item = []\n",
    "\tfreq_dict = defaultdict(lambda : 0)\n",
    "\ttransactions_temp = []\n",
    "\tfor transaction in transaction_list:\n",
    "\t\ttransaction = list(combinations(transaction,i))\n",
    "\t\ttransactions_temp.append(transaction)\n",
    "\n",
    "\tfor transaction in transactions_temp:\n",
    "\t\tfor item in transaction:\n",
    "\t\t\tfreq_dict[item] += 1\n",
    "\t\n",
    "\tfor item in freq_dict:\n",
    "\t\tif(freq_dict[item] >= 20):\n",
    "\t\t\tfreq_item.append(item)\n",
    "\t\t\tcount += 1\n",
    "\t\t\tnew_dict[item] = freq_dict[item]\n",
    "\t\n",
    "\tdict_list.append(new_dict)\n",
    "\tcountList.append(count)\n",
    "\tLi.append(freq_item)\n",
    "\n",
    "\n",
    "pprint.pprint(dict_list)\n",
    "print('Number of frequent 1-itemset is {0}'.format(countList[0]))\n",
    "print('Number of frequent 2-itemset is {0}'.format(countList[1]))\n",
    "print('Number of frequent 3-itemset is {0}'.format(countList[2]))\n",
    "print('Number of frequent 4-itemset is {0}'.format(countList[3]))\n",
    "print('Number of frequent patterns is {0}'.format(sum(countList)))"
   ]
  },
  {
   "cell_type": "markdown",
   "metadata": {},
   "source": [
    "Thus we get:<br>\n",
    " 1. The number of frequent patterns is **30**\n",
    "\n",
    " 2. The number of frequent patterns with length 3 is **8**"
   ]
  },
  {
   "cell_type": "markdown",
   "metadata": {},
   "source": [
    "By implementing the definition of max pattern (A pattern X is a max-pattern if X is frequent and there exists no frequent super-pattern Y containing X):"
   ]
  },
  {
   "cell_type": "code",
   "execution_count": 10,
   "metadata": {},
   "outputs": [
    {
     "name": "stdout",
     "output_type": "stream",
     "text": [
      "[('A', 'C', 'G'),\n",
      " ('A', 'F'),\n",
      " ('C', 'E', 'G'),\n",
      " ('A', 'B', 'C', 'E'),\n",
      " ('C', 'D'),\n",
      " ('B', 'C', 'G'),\n",
      " ('C', 'E', 'F')]\n",
      "The number of max patterns is 7\n"
     ]
    }
   ],
   "source": [
    "length = len(Li)\n",
    "should_remove = []\n",
    "for i in range(0, length):\n",
    "\tif(i+1<length):\n",
    "\t\tfor j in range(0,len(Li[i+1])):\n",
    "\t\t\t\ta = set(combinations(Li[i+1][j],i+1))\n",
    "\t\t\t\tfor it in Li[i]:\n",
    "\t\t\t\t\tif it in a:\n",
    "\t\t\t\t\t\tshould_remove.append(it)\n",
    "\n",
    "combined = [item for sublist in Li for item in sublist]\t\n",
    "max_pattern = list(set(combined)- set(should_remove))\n",
    "pprint.pprint(max_pattern)\n",
    "print('The number of max patterns is {0}'.format(len(max_pattern)))"
   ]
  },
  {
   "cell_type": "markdown",
   "metadata": {},
   "source": [
    "**b.** <br>\n",
    "Now we want to find all patterns that have support >= 10. So repeating the above code and changing **minimum support** to 10:"
   ]
  },
  {
   "cell_type": "code",
   "execution_count": 19,
   "metadata": {},
   "outputs": [
    {
     "name": "stdout",
     "output_type": "stream",
     "text": [
      "{frozenset({'D'}): 28,\n",
      " frozenset({'B', 'D'}): 14,\n",
      " frozenset({'B', 'C', 'D'}): 12,\n",
      " frozenset({'A', 'D'}): 16,\n",
      " frozenset({'A', 'D', 'E'}): 13,\n",
      " frozenset({'C', 'A', 'D'}): 14,\n",
      " frozenset({'D', 'E'}): 19,\n",
      " frozenset({'C', 'D'}): 23,\n",
      " frozenset({'C', 'D', 'E'}): 16,\n",
      " frozenset({'C', 'A', 'D', 'E'}): 12,\n",
      " frozenset({'F'}): 29,\n",
      " frozenset({'F', 'B'}): 15,\n",
      " frozenset({'F', 'A'}): 20,\n",
      " frozenset({'F', 'B', 'A'}): 11,\n",
      " frozenset({'F', 'C'}): 28,\n",
      " frozenset({'F', 'B', 'C', 'A'}): 10,\n",
      " frozenset({'F', 'B', 'E'}): 13,\n",
      " frozenset({'F', 'B', 'C'}): 14,\n",
      " frozenset({'F', 'C', 'E'}): 25,\n",
      " frozenset({'F', 'B', 'C', 'E'}): 13,\n",
      " frozenset({'F', 'A', 'E'}): 17,\n",
      " frozenset({'F', 'C', 'A'}): 19,\n",
      " frozenset({'F', 'E'}): 25,\n",
      " frozenset({'F', 'C', 'A', 'E'}): 17,\n",
      " frozenset({'G'}): 34,\n",
      " frozenset({'B'}): 54,\n",
      " frozenset({'B', 'G'}): 21,\n",
      " frozenset({'B', 'A', 'G'}): 14,\n",
      " frozenset({'G', 'E'}): 22,\n",
      " frozenset({'B', 'G', 'E'}): 11,\n",
      " frozenset({'B', 'A', 'G', 'E'}): 10,\n",
      " frozenset({'C'}): 83,\n",
      " frozenset({'B', 'C', 'G'}): 20,\n",
      " frozenset({'B', 'C', 'A', 'G'}): 13,\n",
      " frozenset({'C', 'E'}): 56,\n",
      " frozenset({'B', 'C', 'G', 'E'}): 11,\n",
      " frozenset({'A', 'G'}): 22,\n",
      " frozenset({'A', 'G', 'E'}): 17,\n",
      " frozenset({'C', 'G'}): 32,\n",
      " frozenset({'C', 'A', 'G'}): 20,\n",
      " frozenset({'C', 'G', 'E'}): 21,\n",
      " frozenset({'A'}): 64,\n",
      " frozenset({'C', 'A', 'G', 'E'}): 16,\n",
      " frozenset({'B', 'A'}): 37,\n",
      " frozenset({'B', 'A', 'E'}): 24,\n",
      " frozenset({'B', 'C', 'A'}): 31,\n",
      " frozenset({'B', 'E'}): 34,\n",
      " frozenset({'B', 'C'}): 47,\n",
      " frozenset({'E'}): 66,\n",
      " frozenset({'B', 'C', 'E'}): 32,\n",
      " frozenset({'A', 'E'}): 44,\n",
      " frozenset({'C', 'A'}): 52,\n",
      " frozenset({'C', 'A', 'E'}): 38,\n",
      " frozenset({'B', 'C', 'A', 'E'}): 23,\n",
      " frozenset({'B', 'A', 'E', 'C', 'G'}): 10}\n",
      "55\n",
      "-------------------------------\n",
      "[{('A',): 64,\n",
      "  ('B',): 54,\n",
      "  ('C',): 83,\n",
      "  ('D',): 28,\n",
      "  ('E',): 66,\n",
      "  ('F',): 29,\n",
      "  ('G',): 34},\n",
      " {('A', 'B'): 37,\n",
      "  ('A', 'C'): 52,\n",
      "  ('A', 'D'): 16,\n",
      "  ('A', 'E'): 44,\n",
      "  ('A', 'F'): 20,\n",
      "  ('A', 'G'): 22,\n",
      "  ('B', 'C'): 47,\n",
      "  ('B', 'D'): 14,\n",
      "  ('B', 'E'): 34,\n",
      "  ('B', 'F'): 15,\n",
      "  ('B', 'G'): 21,\n",
      "  ('C', 'D'): 23,\n",
      "  ('C', 'E'): 56,\n",
      "  ('C', 'F'): 28,\n",
      "  ('C', 'G'): 32,\n",
      "  ('D', 'E'): 19,\n",
      "  ('E', 'F'): 25,\n",
      "  ('E', 'G'): 22},\n",
      " {('A', 'B', 'C'): 31,\n",
      "  ('A', 'B', 'E'): 24,\n",
      "  ('A', 'B', 'F'): 11,\n",
      "  ('A', 'B', 'G'): 14,\n",
      "  ('A', 'C', 'D'): 14,\n",
      "  ('A', 'C', 'E'): 38,\n",
      "  ('A', 'C', 'F'): 19,\n",
      "  ('A', 'C', 'G'): 20,\n",
      "  ('A', 'D', 'E'): 13,\n",
      "  ('A', 'E', 'F'): 17,\n",
      "  ('A', 'E', 'G'): 17,\n",
      "  ('B', 'C', 'D'): 12,\n",
      "  ('B', 'C', 'E'): 32,\n",
      "  ('B', 'C', 'F'): 14,\n",
      "  ('B', 'C', 'G'): 20,\n",
      "  ('B', 'E', 'F'): 13,\n",
      "  ('B', 'E', 'G'): 11,\n",
      "  ('C', 'D', 'E'): 16,\n",
      "  ('C', 'E', 'F'): 25,\n",
      "  ('C', 'E', 'G'): 21},\n",
      " {('A', 'B', 'C', 'E'): 23,\n",
      "  ('A', 'B', 'C', 'F'): 10,\n",
      "  ('A', 'B', 'C', 'G'): 13,\n",
      "  ('A', 'B', 'E', 'G'): 10,\n",
      "  ('A', 'C', 'D', 'E'): 12,\n",
      "  ('A', 'C', 'E', 'F'): 17,\n",
      "  ('A', 'C', 'E', 'G'): 16,\n",
      "  ('B', 'C', 'E', 'F'): 13,\n",
      "  ('B', 'C', 'E', 'G'): 11},\n",
      " {('A', 'B', 'C', 'E', 'G'): 10}]\n",
      "Number of frequent 1-itemset is 7\n",
      "Number of frequent 2-itemset is 18\n",
      "Number of frequent 3-itemset is 20\n",
      "Number of frequent 4-itemset is 9\n",
      "Number of frequent patterns is 55\n"
     ]
    }
   ],
   "source": [
    "#alternate option for using apriori algorithm\n",
    "from pymining import itemmining\n",
    "relim_input = itemmining.get_relim_input(transaction_list)\n",
    "report = itemmining.relim(relim_input, min_support=10)\n",
    "pprint.pprint(report)\n",
    "print(len(report))\n",
    "print(\"-------------------------------\")\n",
    "\n",
    "\n",
    "\n",
    "\n",
    "Li = []\n",
    "countList = []\n",
    "dict_list = []\n",
    "\n",
    "for i in range(1, 6):\n",
    "\tnew_dict = {}\n",
    "\tcount = 0\n",
    "\tfreq_item = []\n",
    "\tfreq_dict = defaultdict(lambda : 0)\n",
    "\ttransactions_temp = []\n",
    "\tfor transaction in transaction_list:\n",
    "\t\ttransaction = list(combinations(transaction,i))\n",
    "\t\ttransactions_temp.append(transaction)\n",
    "\n",
    "\tfor transaction in transactions_temp:\n",
    "\t\tfor item in transaction:\n",
    "\t\t\tfreq_dict[item] += 1\n",
    "\t\n",
    "\tfor item in freq_dict:\n",
    "\t\tif(freq_dict[item] >= 10):\n",
    "\t\t\tfreq_item.append(item)\n",
    "\t\t\tcount += 1\n",
    "\t\t\tnew_dict[item] = freq_dict[item]\n",
    "\t\n",
    "\tdict_list.append(new_dict)\n",
    "\tcountList.append(count)\n",
    "\tLi.append(freq_item)\n",
    "pprint.pprint(dict_list)\n",
    "print('Number of frequent 1-itemset is {0}'.format(countList[0]))\n",
    "print('Number of frequent 2-itemset is {0}'.format(countList[1]))\n",
    "print('Number of frequent 3-itemset is {0}'.format(countList[2]))\n",
    "print('Number of frequent 4-itemset is {0}'.format(countList[3]))\n",
    "print('Number of frequent patterns is {0}'.format(sum(countList)))"
   ]
  },
  {
   "cell_type": "markdown",
   "metadata": {},
   "source": [
    "So we get the following answers:\n",
    "1. The number of frequent patterns is **55** .\n",
    "\n",
    "2. The number of frequent patterns with length 3 is **20**.\n"
   ]
  },
  {
   "cell_type": "markdown",
   "metadata": {},
   "source": [
    "Now we calculate the **number of max patterns** using the original code below:"
   ]
  },
  {
   "cell_type": "code",
   "execution_count": 18,
   "metadata": {},
   "outputs": [
    {
     "name": "stdout",
     "output_type": "stream",
     "text": [
      "{frozenset({'D'}): 28,\n",
      " frozenset({'B', 'D'}): 14,\n",
      " frozenset({'B', 'C', 'D'}): 12,\n",
      " frozenset({'A', 'D'}): 16,\n",
      " frozenset({'A', 'D', 'E'}): 13,\n",
      " frozenset({'C', 'A', 'D'}): 14,\n",
      " frozenset({'D', 'E'}): 19,\n",
      " frozenset({'C', 'D'}): 23,\n",
      " frozenset({'C', 'D', 'E'}): 16,\n",
      " frozenset({'C', 'A', 'D', 'E'}): 12,\n",
      " frozenset({'F'}): 29,\n",
      " frozenset({'F', 'B'}): 15,\n",
      " frozenset({'F', 'A'}): 20,\n",
      " frozenset({'F', 'B', 'A'}): 11,\n",
      " frozenset({'F', 'C'}): 28,\n",
      " frozenset({'F', 'B', 'C', 'A'}): 10,\n",
      " frozenset({'F', 'B', 'E'}): 13,\n",
      " frozenset({'F', 'B', 'C'}): 14,\n",
      " frozenset({'F', 'C', 'E'}): 25,\n",
      " frozenset({'F', 'B', 'C', 'E'}): 13,\n",
      " frozenset({'F', 'A', 'E'}): 17,\n",
      " frozenset({'F', 'C', 'A'}): 19,\n",
      " frozenset({'F', 'E'}): 25,\n",
      " frozenset({'F', 'C', 'A', 'E'}): 17,\n",
      " frozenset({'G'}): 34,\n",
      " frozenset({'B'}): 54,\n",
      " frozenset({'B', 'G'}): 21,\n",
      " frozenset({'B', 'A', 'G'}): 14,\n",
      " frozenset({'G', 'E'}): 22,\n",
      " frozenset({'B', 'G', 'E'}): 11,\n",
      " frozenset({'B', 'A', 'G', 'E'}): 10,\n",
      " frozenset({'C'}): 83,\n",
      " frozenset({'B', 'C', 'G'}): 20,\n",
      " frozenset({'B', 'C', 'A', 'G'}): 13,\n",
      " frozenset({'C', 'E'}): 56,\n",
      " frozenset({'B', 'C', 'G', 'E'}): 11,\n",
      " frozenset({'A', 'G'}): 22,\n",
      " frozenset({'A', 'G', 'E'}): 17,\n",
      " frozenset({'C', 'G'}): 32,\n",
      " frozenset({'C', 'A', 'G'}): 20,\n",
      " frozenset({'C', 'G', 'E'}): 21,\n",
      " frozenset({'A'}): 64,\n",
      " frozenset({'C', 'A', 'G', 'E'}): 16,\n",
      " frozenset({'B', 'A'}): 37,\n",
      " frozenset({'B', 'A', 'E'}): 24,\n",
      " frozenset({'B', 'C', 'A'}): 31,\n",
      " frozenset({'B', 'E'}): 34,\n",
      " frozenset({'B', 'C'}): 47,\n",
      " frozenset({'E'}): 66,\n",
      " frozenset({'B', 'C', 'E'}): 32,\n",
      " frozenset({'A', 'E'}): 44,\n",
      " frozenset({'C', 'A'}): 52,\n",
      " frozenset({'C', 'A', 'E'}): 38,\n",
      " frozenset({'B', 'C', 'A', 'E'}): 23,\n",
      " frozenset({'B', 'A', 'E', 'C', 'G'}): 10}\n",
      "55\n",
      "-------------------------------\n",
      "[('A', 'B', 'C', 'F'),\n",
      " ('A', 'C', 'E', 'F'),\n",
      " ('A', 'C', 'D', 'E'),\n",
      " ('B', 'C', 'D'),\n",
      " ('B', 'C', 'E', 'F'),\n",
      " ('A', 'B', 'C', 'E', 'G')]\n",
      "The number of max patterns is 6\n"
     ]
    }
   ],
   "source": [
    "\n",
    "\n",
    "\n",
    "length = len(Li)\n",
    "should_remove = []\n",
    "for i in range(0, length):\n",
    "\tif(i+1<length):\n",
    "\t\tfor j in range(0,len(Li[i+1])):\n",
    "\t\t\t\ta = set(combinations(Li[i+1][j],i+1))\n",
    "\t\t\t\tfor it in Li[i]:\n",
    "\t\t\t\t\tif it in a:\n",
    "\t\t\t\t\t\tshould_remove.append(it)\n",
    "\n",
    "combined = [item for sublist in Li for item in sublist]\t\n",
    "max_pattern = list(set(combined)- set(should_remove))\n",
    "pprint.pprint(max_pattern)\n",
    "print('The number of max patterns is {0}'.format(len(max_pattern)))"
   ]
  },
  {
   "cell_type": "markdown",
   "metadata": {},
   "source": [
    "3. The number of max patterns is **6**."
   ]
  },
  {
   "cell_type": "markdown",
   "metadata": {},
   "source": [
    "In order to calculate the confidence, we use the confidence measure of the **Association Rule**:<br>\n",
    "* $confidence(A \\Rightarrow B) = P(B \\vert A)= \\frac{support(A\\bigcup B)}{support (A)} = \\frac{support_{count}(A\\bigcup B)}{support_{count}(A)}$<br>\n"
   ]
  },
  {
   "cell_type": "code",
   "execution_count": 13,
   "metadata": {},
   "outputs": [
    {
     "name": "stdout",
     "output_type": "stream",
     "text": [
      "4. The confidence measure of the association rule (C, E) -> A is 0.6785714285714286\n",
      "\n",
      "5. The confidence measure of the association rule (A, B, C) -> E is 0.7419354838709677\n"
     ]
    }
   ],
   "source": [
    "con1 = dict_list[2][('A', 'C', 'E')]/ dict_list[1][('C', 'E')]\n",
    "print('4. The confidence measure of the association rule (C, E) -> A is {0}\\n'.format(con1))\n",
    "con2 = dict_list[3][('A', 'B', 'C', 'E')]/ dict_list[2][('A', 'B', 'C')]\n",
    "print('5. The confidence measure of the association rule (A, B, C) -> E is {0}'.format(con2))"
   ]
  },
  {
   "cell_type": "markdown",
   "metadata": {
    "collapsed": true
   },
   "source": [
    "Hence: <br>\n",
    "  * The confidence measure of the association rule (C, E) -> A is 0.679.\n",
    "\n",
    "  * The confidence measure of the association rule (A, B, C) -> E is 0.742."
   ]
  }
 ],
 "metadata": {
  "kernelspec": {
   "display_name": "Python 3",
   "language": "python",
   "name": "python3"
  },
  "language_info": {
   "codemirror_mode": {
    "name": "ipython",
    "version": 3
   },
   "file_extension": ".py",
   "mimetype": "text/x-python",
   "name": "python",
   "nbconvert_exporter": "python",
   "pygments_lexer": "ipython3",
   "version": "3.6.1"
  }
 },
 "nbformat": 4,
 "nbformat_minor": 2
}
